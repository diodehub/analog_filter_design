{
 "cells": [
  {
   "cell_type": "code",
   "execution_count": 1,
   "metadata": {},
   "outputs": [
    {
     "ename": "NameError",
     "evalue": "name 'lp2lp' is not defined",
     "output_type": "error",
     "traceback": [
      "\u001b[1;31m---------------------------------------------------------------------------\u001b[0m",
      "\u001b[1;31mNameError\u001b[0m                                 Traceback (most recent call last)",
      "Cell \u001b[1;32mIn[1], line 14\u001b[0m\n\u001b[0;32m     12\u001b[0m z, p, k \u001b[38;5;241m=\u001b[39m buttap(\u001b[38;5;241m4\u001b[39m)  \u001b[38;5;66;03m# 4th order Butterworth filter\u001b[39;00m\n\u001b[0;32m     13\u001b[0m num, denom \u001b[38;5;241m=\u001b[39m zpk2tf(z, p, k) \u001b[38;5;66;03m# get tf\u001b[39;00m\n\u001b[1;32m---> 14\u001b[0m num, denom \u001b[38;5;241m=\u001b[39m \u001b[43mlp2lp\u001b[49m(num, denom, cutoff_freq_rad) \u001b[38;5;66;03m# DENORMALIZED TO CUTOFF FREQ FOR TRANSFER FUNCTION\u001b[39;00m\n\u001b[0;32m     16\u001b[0m filterTF \u001b[38;5;241m=\u001b[39m TransferFunction(num,denom)\n\u001b[0;32m     17\u001b[0m \u001b[38;5;28mprint\u001b[39m(filterTF)\n",
      "\u001b[1;31mNameError\u001b[0m: name 'lp2lp' is not defined"
     ]
    }
   ],
   "source": [
    "# apply sine wave to lpf 10hz butterworth filter\n",
    "# butterworth low pass filter cutoff: 100Hz\n",
    "import numpy as np\n",
    "import matplotlib.pyplot as plt\n",
    "from scipy.signal import zpk2tf, bode, TransferFunction, buttap\n",
    "\n",
    "# filter specification\n",
    "order = 4\n",
    "cutoff_freq_hz = 100  # Cutoff frequency in Hz\n",
    "cutoff_freq_rad = 2 * np.pi * cutoff_freq_hz  # Convert to rad/s\n",
    "\n",
    "z, p, k = buttap(4)  # 4th order Butterworth filter\n",
    "num, denom = zpk2tf(z, p, k) # get tf\n",
    "\n",
    "filterTF = TransferFunction(num,denom)\n",
    "print(filterTF)\n",
    "\n",
    "# frequency vector\n",
    "w_log = np.logspace(0,5,1000) # from 10e-1 to 10e3, with 1000 points\n",
    "\n",
    "# Compute the Bode plot\n",
    "w_log, mag, phase = bode(filterTF, w=w_log)\n",
    "\n",
    "# Plot the Bode magnitude and phase\n",
    "plt.figure(figsize=(12, 8))\n",
    "\n",
    "# Magnitude plot\n",
    "plt.subplot(2, 1, 1) # 2 rows, 1 column, 1st subplot\n",
    "plt.semilogx(w_log, mag)  # Bode magnitude plot (logarithmic x-axis)\n",
    "plt.grid(True, which='both', linestyle='--', linewidth=0.7)\n",
    "plt.xlabel('Frequency [rad/s]')\n",
    "plt.ylabel('Magnitude [dB]')\n",
    "plt.title('Bode Plot - Magnitude Response')\n",
    "\n",
    "# Phase plot\n",
    "plt.subplot(2, 1, 2) # 2 rows, 1 column, 2nd subplot\n",
    "plt.semilogx(w_log, phase)  # Bode phase plot (logarithmic x-axis)\n",
    "plt.grid(True, which='both', linestyle='--', linewidth=0.7)\n",
    "plt.xlabel('Frequency [rad/s]')\n",
    "plt.ylabel('Phase [degrees]')\n",
    "plt.title('Bode Plot - Phase Response')\n",
    "\n",
    "# Show plots\n",
    "plt.tight_layout()\n",
    "plt.show()"
   ]
  },
  {
   "cell_type": "code",
   "execution_count": null,
   "metadata": {},
   "outputs": [],
   "source": []
  }
 ],
 "metadata": {
  "kernelspec": {
   "display_name": "filter",
   "language": "python",
   "name": "python3"
  },
  "language_info": {
   "codemirror_mode": {
    "name": "ipython",
    "version": 3
   },
   "file_extension": ".py",
   "mimetype": "text/x-python",
   "name": "python",
   "nbconvert_exporter": "python",
   "pygments_lexer": "ipython3",
   "version": "3.11.9"
  }
 },
 "nbformat": 4,
 "nbformat_minor": 2
}
