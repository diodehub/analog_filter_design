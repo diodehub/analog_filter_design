{
 "cells": [
  {
   "cell_type": "code",
   "execution_count": 3,
   "id": "c1fb9120-34e7-4bf8-98ea-c7ecee2de464",
   "metadata": {
    "editable": true,
    "slideshow": {
     "slide_type": ""
    },
    "tags": []
   },
   "outputs": [
    {
     "ename": "ImportError",
     "evalue": "cannot import name 'zp2tf' from 'scipy.signal' (c:\\Users\\bokre\\.conda\\envs\\filter\\Lib\\site-packages\\scipy\\signal\\__init__.py)",
     "output_type": "error",
     "traceback": [
      "\u001b[1;31m---------------------------------------------------------------------------\u001b[0m",
      "\u001b[1;31mImportError\u001b[0m                               Traceback (most recent call last)",
      "Cell \u001b[1;32mIn[3], line 1\u001b[0m\n\u001b[1;32m----> 1\u001b[0m \u001b[38;5;28;01mfrom\u001b[39;00m \u001b[38;5;21;01mscipy\u001b[39;00m\u001b[38;5;21;01m.\u001b[39;00m\u001b[38;5;21;01msignal\u001b[39;00m \u001b[38;5;28;01mimport\u001b[39;00m cheby1, zp2tf, freqz\n\u001b[0;32m      2\u001b[0m \u001b[38;5;28;01mimport\u001b[39;00m \u001b[38;5;21;01mmatplotlib\u001b[39;00m\u001b[38;5;21;01m.\u001b[39;00m\u001b[38;5;21;01mpyplot\u001b[39;00m \u001b[38;5;28;01mas\u001b[39;00m \u001b[38;5;21;01mplt\u001b[39;00m\n\u001b[0;32m      4\u001b[0m \u001b[38;5;66;03m# Design specifications\u001b[39;00m\n",
      "\u001b[1;31mImportError\u001b[0m: cannot import name 'zp2tf' from 'scipy.signal' (c:\\Users\\bokre\\.conda\\envs\\filter\\Lib\\site-packages\\scipy\\signal\\__init__.py)"
     ]
    }
   ],
   "source": [
    "from scipy.signal import cheby1, zp2tf, freqz\n",
    "import matplotlib.pyplot as plt\n",
    "\n",
    "# Design specifications\n",
    "order = 4  # Filter order\n",
    "rp = 3     # Passband ripple in dB\n",
    "\n",
    "# Design the filter\n",
    "wn = 1  # Normalized cutoff frequency (default for lowpass in scipy)\n",
    "b, a = cheby1(order, rp, wn)  # Numerator and denominator coefficients\n",
    "\n",
    "# Transfer function\n",
    "num, den = zp2tf([], a, 1)  # Convert (empty zeros, poles, gain=1)\n",
    "\n",
    "# Print coefficients (optional)\n",
    "# print(\"Numerator:\", num)\n",
    "# print(\"Denominator:\", den)\n",
    "\n",
    "# Frequency response\n",
    "w, h = freqz(b, a, worN=2000)  # Frequency vector and response\n",
    "\n",
    "# Magnitude response\n",
    "mag = abs(h)\n",
    "\n",
    "# Phase response (in degrees)\n",
    "phase = (angle(h) * 180) / np.pi\n",
    "\n",
    "# Plot magnitude response\n",
    "plt.subplot(2, 1, 1)\n",
    "plt.plot(w, mag)\n",
    "plt.grid(True)\n",
    "plt.xlabel('Frequency (rad/s)')\n",
    "plt.ylabel('Magnitude (|H(jω)|)')\n",
    "plt.title('Chebyshev Type-I Normalized Lowpass Filter (Magnitude)')\n",
    "\n",
    "# Plot phase response (optional)\n",
    "# plt.subplot(2, 1, 2)\n",
    "# plt.plot(w, phase)\n",
    "# plt.grid(True)\n",
    "# plt.xlabel('Frequency (rad/s)')\n",
    "# plt.ylabel('Phase (angle(H(jω)))')\n",
    "# plt.title('Chebyshev Type-I Normalized Lowpass Filter (Phase)')\n",
    "\n",
    "plt.tight_layout()\n",
    "plt.show() \n"
   ]
  }
 ],
 "metadata": {
  "kernelspec": {
   "display_name": "Python 3 (ipykernel)",
   "language": "python",
   "name": "python3"
  },
  "language_info": {
   "codemirror_mode": {
    "name": "ipython",
    "version": 3
   },
   "file_extension": ".py",
   "mimetype": "text/x-python",
   "name": "python",
   "nbconvert_exporter": "python",
   "pygments_lexer": "ipython3",
   "version": "3.11.9"
  }
 },
 "nbformat": 4,
 "nbformat_minor": 5
}
